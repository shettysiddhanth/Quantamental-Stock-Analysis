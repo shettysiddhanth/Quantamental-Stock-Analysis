{
 "cells": [
  {
   "cell_type": "code",
   "execution_count": 17,
   "metadata": {},
   "outputs": [],
   "source": [
    "import pandas as pd\n",
    "from influxdb_client import InfluxDBClient, Point, WritePrecision\n",
    "from influxdb_client.client.query_api import QueryApi"
   ]
  },
  {
   "cell_type": "code",
   "execution_count": 18,
   "metadata": {},
   "outputs": [],
   "source": [
    "token = 'MlUmh8wWKDAcBiZbBjvJPguGKxoON1ZRqFjVQ_zh8M3NHLcr53WnxbfXX_ByD0Wm7S8G0kb622gj2EX25MzFCA=='\n",
    "org = \"Portfolio_Opt\"\n",
    "url = \"http://localhost:8080\"\n",
    "bucket = \"Nifty50\"\n",
    "\n",
    "client = InfluxDBClient(url=url, token=token, org=org)\n",
    "query_api = client.query_api()"
   ]
  },
  {
   "cell_type": "code",
   "execution_count": 19,
   "metadata": {},
   "outputs": [],
   "source": [
    "symbols = ['ASIANPAINT.NS', 'BAJAJ-AUTO.NS', 'BAJFINANCE.NS', 'HCLTECH.NS', 'INFY.NS', 'TCS.NS', 'TECHM.NS']\n",
    "\n",
    "start_date = '2023-01-01'\n",
    "end_date = '2024-01-01'\n",
    "\n",
    "all_data = pd.DataFrame()"
   ]
  },
  {
   "cell_type": "code",
   "execution_count": 20,
   "metadata": {},
   "outputs": [
    {
     "name": "stdout",
     "output_type": "stream",
     "text": [
      "                           ASIANPAINT.NS  BAJAJ-AUTO.NS  BAJFINANCE.NS  \\\n",
      "_time                                                                    \n",
      "2023-01-02 00:00:00+00:00    3047.250000    3573.949951    6553.750000   \n",
      "2023-01-03 00:00:00+00:00    3028.250000    3601.699951    6606.250000   \n",
      "2023-01-04 00:00:00+00:00    3016.850098    3552.850098    6571.000000   \n",
      "2023-01-05 00:00:00+00:00    3004.350098    3621.149902    6100.049805   \n",
      "2023-01-06 00:00:00+00:00    2978.399902    3642.250000    5980.399902   \n",
      "...                                  ...            ...            ...   \n",
      "2023-12-22 00:00:00+00:00    3341.300049    6372.100098    7295.299805   \n",
      "2023-12-26 00:00:00+00:00    3383.350098    6464.549805    7162.299805   \n",
      "2023-12-27 00:00:00+00:00    3404.449951    6709.649902    7232.799805   \n",
      "2023-12-28 00:00:00+00:00    3397.250000    6703.299805    7258.649902   \n",
      "2023-12-29 00:00:00+00:00    3402.399902    6797.250000    7327.750000   \n",
      "\n",
      "                            HCLTECH.NS      INFY.NS       TCS.NS     TECHM.NS  \n",
      "_time                                                                          \n",
      "2023-01-02 00:00:00+00:00  1039.449951  1524.000000  3261.449951  1009.500000  \n",
      "2023-01-03 00:00:00+00:00  1041.349976  1522.550049  3311.350098  1023.799988  \n",
      "2023-01-04 00:00:00+00:00  1036.599976  1494.800049  3314.649902  1020.299988  \n",
      "2023-01-05 00:00:00+00:00  1044.099976  1475.199951  3311.100098  1011.650024  \n",
      "2023-01-06 00:00:00+00:00  1032.800049  1448.500000  3211.550049   986.150024  \n",
      "...                                ...          ...          ...          ...  \n",
      "2023-12-22 00:00:00+00:00  1462.699951  1562.900024  3824.000000  1275.150024  \n",
      "2023-12-26 00:00:00+00:00  1458.150024  1543.949951  3795.550049  1282.000000  \n",
      "2023-12-27 00:00:00+00:00  1472.050049  1567.099976  3811.199951  1280.150024  \n",
      "2023-12-28 00:00:00+00:00  1472.449951  1562.650024  3799.899902  1285.949951  \n",
      "2023-12-29 00:00:00+00:00  1466.099976  1542.900024  3793.399902  1272.650024  \n",
      "\n",
      "[245 rows x 7 columns]\n"
     ]
    }
   ],
   "source": [
    "for symbol in symbols:\n",
    "    # Construct the Flux query\n",
    "    query = f'''\n",
    "    from(bucket: \"{bucket}\")\n",
    "      |> range(start: {start_date}, stop: {end_date})\n",
    "      |> filter(fn: (r) => r[\"_measurement\"] == \"market_data\")\n",
    "      |> filter(fn: (r) => r[\"_field\"] == \"close\")\n",
    "      |> filter(fn: (r) => r[\"symbol\"] == \"{symbol}\")\n",
    "      |> pivot(rowKey:[\"_time\"], columnKey: [\"_field\"], valueColumn: \"_value\")\n",
    "    '''\n",
    "    # Execute the query\n",
    "    result = query_api.query_data_frame(query=query)\n",
    "    if not result.empty:\n",
    "        result.set_index('_time', inplace=True)\n",
    "        result = result[['close']]  # Ensure only close data is used\n",
    "        result.columns = [symbol]  # Rename column to symbol name\n",
    "\n",
    "        if all_data.empty:\n",
    "            all_data = result\n",
    "        else:\n",
    "            all_data = all_data.join(result, how='outer')\n",
    "\n",
    "print(all_data)\n",
    "\n",
    "# Save the consolidated data to CSV\n",
    "all_data.to_csv('backtesting_data.csv')"
   ]
  }
 ],
 "metadata": {
  "kernelspec": {
   "display_name": "summer24",
   "language": "python",
   "name": "python3"
  },
  "language_info": {
   "codemirror_mode": {
    "name": "ipython",
    "version": 3
   },
   "file_extension": ".py",
   "mimetype": "text/x-python",
   "name": "python",
   "nbconvert_exporter": "python",
   "pygments_lexer": "ipython3",
   "version": "3.11.9"
  }
 },
 "nbformat": 4,
 "nbformat_minor": 2
}
