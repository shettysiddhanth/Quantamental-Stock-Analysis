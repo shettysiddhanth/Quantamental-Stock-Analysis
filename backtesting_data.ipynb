{
 "cells": [
  {
   "cell_type": "code",
   "execution_count": 1,
   "metadata": {},
   "outputs": [],
   "source": [
    "import yfinance as yf\n",
    "import pandas as pd\n"
   ]
  },
  {
   "cell_type": "code",
   "execution_count": 2,
   "metadata": {},
   "outputs": [],
   "source": [
    "symbols = ['ASIANPAINT.BO', 'BAJAJ-AUTO.BO', 'HCLTECH.BO', 'INFY.BO', 'TCS.BO', 'TITAN.BO']\n",
    "\n",
    "start_date = '2022-01-01'\n",
    "end_date = pd.Timestamp.today().strftime('%Y-%m-%d')  \n",
    "\n",
    "all_data = pd.DataFrame()"
   ]
  },
  {
   "cell_type": "code",
   "execution_count": 3,
   "metadata": {},
   "outputs": [
    {
     "name": "stderr",
     "output_type": "stream",
     "text": [
      "[*********************100%%**********************]  1 of 1 completed\n",
      "[*********************100%%**********************]  1 of 1 completed\n",
      "[*********************100%%**********************]  1 of 1 completed\n",
      "[*********************100%%**********************]  1 of 1 completed\n",
      "[*********************100%%**********************]  1 of 1 completed\n",
      "[*********************100%%**********************]  1 of 1 completed"
     ]
    },
    {
     "name": "stdout",
     "output_type": "stream",
     "text": [
      "            ASIANPAINT.BO  BAJAJ-AUTO.BO   HCLTECH.BO      INFY.BO  \\\n",
      "Date                                                                 \n",
      "2022-01-03    3421.850098    3275.899902  1326.250000  1897.150024   \n",
      "2022-01-04    3456.300049    3289.350098  1333.949951  1896.250000   \n",
      "2022-01-05    3526.449951    3357.800049  1311.400024  1844.949951   \n",
      "2022-01-06    3513.699951    3416.250000  1285.300049  1818.199951   \n",
      "2022-01-07    3574.649902    3390.100098  1291.050049  1813.150024   \n",
      "...                   ...            ...          ...          ...   \n",
      "2024-07-12    2999.500000    9428.549805  1560.400024  1712.000000   \n",
      "2024-07-15    2956.449951    9675.500000  1569.199951  1707.199951   \n",
      "2024-07-16    2974.399902    9707.900391  1569.800049  1725.800049   \n",
      "2024-07-18    2930.449951    9625.700195  1593.900024  1759.150024   \n",
      "2024-07-19    2945.949951    9384.900391  1594.349976  1792.849976   \n",
      "\n",
      "                 TCS.BO     TITAN.BO  \n",
      "Date                                  \n",
      "2022-01-03  3818.149902  2523.750000  \n",
      "2022-01-04  3882.699951  2579.649902  \n",
      "2022-01-05  3861.050049  2576.399902  \n",
      "2022-01-06  3806.850098  2596.750000  \n",
      "2022-01-07  3854.850098  2572.800049  \n",
      "...                 ...          ...  \n",
      "2024-07-12  4184.899902  3231.399902  \n",
      "2024-07-15  4168.000000  3223.850098  \n",
      "2024-07-16  4175.350098  3233.899902  \n",
      "2024-07-18  4314.299805  3261.949951  \n",
      "2024-07-19  4302.750000  3258.699951  \n",
      "\n",
      "[609 rows x 6 columns]\n"
     ]
    },
    {
     "name": "stderr",
     "output_type": "stream",
     "text": [
      "\n"
     ]
    }
   ],
   "source": [
    "\n",
    "for symbol in symbols:\n",
    "\n",
    "    data = yf.download(symbol, start=start_date, end=end_date)\n",
    "\n",
    "    data = data[['Close']]  \n",
    "    data.columns = [symbol]  \n",
    "\n",
    "    if all_data.empty:\n",
    "        all_data = data\n",
    "    else:\n",
    "        all_data = all_data.join(data, how='outer')\n",
    "\n",
    "\n",
    "print(all_data)\n",
    "\n",
    "\n",
    "pd.DataFrame.to_csv(all_data,'backtesting_data.csv')"
   ]
  }
 ],
 "metadata": {
  "kernelspec": {
   "display_name": "summer24",
   "language": "python",
   "name": "python3"
  },
  "language_info": {
   "codemirror_mode": {
    "name": "ipython",
    "version": 3
   },
   "file_extension": ".py",
   "mimetype": "text/x-python",
   "name": "python",
   "nbconvert_exporter": "python",
   "pygments_lexer": "ipython3",
   "version": "3.11.9"
  }
 },
 "nbformat": 4,
 "nbformat_minor": 2
}
