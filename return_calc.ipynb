{
 "cells": [
  {
   "cell_type": "code",
   "execution_count": 15,
   "metadata": {},
   "outputs": [],
   "source": [
    "%matplotlib inline\n",
    "import yfinance as yf\n",
    "import pandas as pd\n",
    "import numpy as np\n",
    "import matplotlib.pyplot as plt"
   ]
  },
  {
   "cell_type": "code",
   "execution_count": 16,
   "metadata": {},
   "outputs": [],
   "source": [
    "symbols = ['ASIANPAINT.NS', 'BAJAJ-AUTO.NS', 'HCLTECH.NS', 'INFY.NS', 'TCS.NS', 'TITAN.NS']\n",
    "\n",
    "start_date = '2023-01-01'  \n",
    "end_date = '2024-01-01'\n",
    "all_data = pd.DataFrame()"
   ]
  },
  {
   "cell_type": "code",
   "execution_count": 17,
   "metadata": {},
   "outputs": [
    {
     "name": "stderr",
     "output_type": "stream",
     "text": [
      "[*********************100%%**********************]  1 of 1 completed\n",
      "[*********************100%%**********************]  1 of 1 completed\n",
      "[*********************100%%**********************]  1 of 1 completed\n",
      "[*********************100%%**********************]  1 of 1 completed\n",
      "[*********************100%%**********************]  1 of 1 completed\n",
      "[*********************100%%**********************]  1 of 1 completed\n"
     ]
    },
    {
     "data": {
      "text/html": [
       "<div>\n",
       "<style scoped>\n",
       "    .dataframe tbody tr th:only-of-type {\n",
       "        vertical-align: middle;\n",
       "    }\n",
       "\n",
       "    .dataframe tbody tr th {\n",
       "        vertical-align: top;\n",
       "    }\n",
       "\n",
       "    .dataframe thead th {\n",
       "        text-align: right;\n",
       "    }\n",
       "</style>\n",
       "<table border=\"1\" class=\"dataframe\">\n",
       "  <thead>\n",
       "    <tr style=\"text-align: right;\">\n",
       "      <th></th>\n",
       "      <th>ASIANPAINT.NS</th>\n",
       "      <th>BAJAJ-AUTO.NS</th>\n",
       "      <th>HCLTECH.NS</th>\n",
       "      <th>INFY.NS</th>\n",
       "      <th>TCS.NS</th>\n",
       "      <th>TITAN.NS</th>\n",
       "    </tr>\n",
       "    <tr>\n",
       "      <th>Date</th>\n",
       "      <th></th>\n",
       "      <th></th>\n",
       "      <th></th>\n",
       "      <th></th>\n",
       "      <th></th>\n",
       "      <th></th>\n",
       "    </tr>\n",
       "  </thead>\n",
       "  <tbody>\n",
       "    <tr>\n",
       "      <th>2023-12-22</th>\n",
       "      <td>3341.300049</td>\n",
       "      <td>6372.100098</td>\n",
       "      <td>1462.699951</td>\n",
       "      <td>1562.900024</td>\n",
       "      <td>3824.000000</td>\n",
       "      <td>3627.350098</td>\n",
       "    </tr>\n",
       "    <tr>\n",
       "      <th>2023-12-26</th>\n",
       "      <td>3383.350098</td>\n",
       "      <td>6464.549805</td>\n",
       "      <td>1458.150024</td>\n",
       "      <td>1543.949951</td>\n",
       "      <td>3795.550049</td>\n",
       "      <td>3656.699951</td>\n",
       "    </tr>\n",
       "    <tr>\n",
       "      <th>2023-12-27</th>\n",
       "      <td>3404.449951</td>\n",
       "      <td>6709.649902</td>\n",
       "      <td>1472.050049</td>\n",
       "      <td>1567.099976</td>\n",
       "      <td>3811.199951</td>\n",
       "      <td>3689.250000</td>\n",
       "    </tr>\n",
       "    <tr>\n",
       "      <th>2023-12-28</th>\n",
       "      <td>3397.250000</td>\n",
       "      <td>6703.299805</td>\n",
       "      <td>1472.449951</td>\n",
       "      <td>1562.650024</td>\n",
       "      <td>3799.899902</td>\n",
       "      <td>3715.100098</td>\n",
       "    </tr>\n",
       "    <tr>\n",
       "      <th>2023-12-29</th>\n",
       "      <td>3402.399902</td>\n",
       "      <td>6797.250000</td>\n",
       "      <td>1466.099976</td>\n",
       "      <td>1542.900024</td>\n",
       "      <td>3793.399902</td>\n",
       "      <td>3675.449951</td>\n",
       "    </tr>\n",
       "  </tbody>\n",
       "</table>\n",
       "</div>"
      ],
      "text/plain": [
       "            ASIANPAINT.NS  BAJAJ-AUTO.NS   HCLTECH.NS      INFY.NS  \\\n",
       "Date                                                                 \n",
       "2023-12-22    3341.300049    6372.100098  1462.699951  1562.900024   \n",
       "2023-12-26    3383.350098    6464.549805  1458.150024  1543.949951   \n",
       "2023-12-27    3404.449951    6709.649902  1472.050049  1567.099976   \n",
       "2023-12-28    3397.250000    6703.299805  1472.449951  1562.650024   \n",
       "2023-12-29    3402.399902    6797.250000  1466.099976  1542.900024   \n",
       "\n",
       "                 TCS.NS     TITAN.NS  \n",
       "Date                                  \n",
       "2023-12-22  3824.000000  3627.350098  \n",
       "2023-12-26  3795.550049  3656.699951  \n",
       "2023-12-27  3811.199951  3689.250000  \n",
       "2023-12-28  3799.899902  3715.100098  \n",
       "2023-12-29  3793.399902  3675.449951  "
      ]
     },
     "execution_count": 17,
     "metadata": {},
     "output_type": "execute_result"
    }
   ],
   "source": [
    "\n",
    "for symbol in symbols:\n",
    "\n",
    "    data = yf.download(symbol, start=start_date, end=end_date)\n",
    "\n",
    "    data = data[['Close']]  \n",
    "    data.columns = [symbol]  \n",
    "\n",
    "    if all_data.empty:\n",
    "        all_data = data\n",
    "    else:\n",
    "        all_data = all_data.join(data, how='outer')\n",
    "\n",
    "\n",
    "all_data.tail()"
   ]
  },
  {
   "cell_type": "code",
   "execution_count": 18,
   "metadata": {},
   "outputs": [
    {
     "name": "stdout",
     "output_type": "stream",
     "text": [
      "[np.float64(0.11654767490155057), np.float64(0.9018872935731027), np.float64(0.41045749622967187), np.float64(0.012401590822875657), np.float64(0.1631022885942921), np.float64(0.43250509643257334)]\n"
     ]
    },
    {
     "name": "stderr",
     "output_type": "stream",
     "text": [
      "/var/folders/wr/mslv0h8d73n9kkgc30xk05lm0000gn/T/ipykernel_24433/3194192809.py:3: FutureWarning: Series.__getitem__ treating keys as positions is deprecated. In a future version, integer keys will always be treated as labels (consistent with DataFrame behavior). To access a value by position, use `ser.iloc[pos]`\n",
      "  returns.append((all_data[symbol].iloc[-1]-all_data[symbol][0])/all_data[symbol][0])\n"
     ]
    }
   ],
   "source": [
    "returns=[]\n",
    "for symbol in symbols:\n",
    "    returns.append((all_data[symbol].iloc[-1]-all_data[symbol][0])/all_data[symbol][0])\n",
    "\n",
    "print(returns)"
   ]
  },
  {
   "cell_type": "code",
   "execution_count": 19,
   "metadata": {},
   "outputs": [
    {
     "name": "stdout",
     "output_type": "stream",
     "text": [
      "0.30872057880157255\n"
     ]
    }
   ],
   "source": [
    "weights=[0.13996001, 0.16165737, 0.12433655, 0.18439506, 0.27926907, 0.11038194]\n",
    "\n",
    "portfolio_return=np.dot(returns,weights)\n",
    "\n",
    "print(portfolio_return)"
   ]
  },
  {
   "cell_type": "code",
   "execution_count": 20,
   "metadata": {},
   "outputs": [
    {
     "name": "stderr",
     "output_type": "stream",
     "text": [
      "[*********************100%%**********************]  1 of 1 completed"
     ]
    },
    {
     "name": "stdout",
     "output_type": "stream",
     "text": [
      "0.1942003590389879\n"
     ]
    },
    {
     "name": "stderr",
     "output_type": "stream",
     "text": [
      "\n",
      "/var/folders/wr/mslv0h8d73n9kkgc30xk05lm0000gn/T/ipykernel_24433/1972782699.py:2: FutureWarning: Series.__getitem__ treating keys as positions is deprecated. In a future version, integer keys will always be treated as labels (consistent with DataFrame behavior). To access a value by position, use `ser.iloc[pos]`\n",
      "  nifty_return=(nifty_data['Close'].iloc[-1]-nifty_data['Close'][0])/nifty_data['Close'][0]\n"
     ]
    }
   ],
   "source": [
    "nifty_data=yf.download('^NSEI', start=start_date, end=end_date)\n",
    "nifty_return=(nifty_data['Close'].iloc[-1]-nifty_data['Close'][0])/nifty_data['Close'][0]\n",
    "print(nifty_return)"
   ]
  }
 ],
 "metadata": {
  "kernelspec": {
   "display_name": "summer24",
   "language": "python",
   "name": "python3"
  },
  "language_info": {
   "codemirror_mode": {
    "name": "ipython",
    "version": 3
   },
   "file_extension": ".py",
   "mimetype": "text/x-python",
   "name": "python",
   "nbconvert_exporter": "python",
   "pygments_lexer": "ipython3",
   "version": "3.11.9"
  }
 },
 "nbformat": 4,
 "nbformat_minor": 2
}
