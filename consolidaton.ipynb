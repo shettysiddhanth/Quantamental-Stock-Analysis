{
 "cells": [
  {
   "cell_type": "code",
   "execution_count": 19,
   "metadata": {},
   "outputs": [],
   "source": [
    "from influxdb_client import InfluxDBClient\n",
    "import pandas as pd\n",

    "token = 'MlUmh8wWKDAcBiZbBjvJPguGKxoON1ZRqFjVQ_zh8M3NHLcr53WnxbfXX_ByD0Wm7S8G0kb622gj2EX25MzFCA=='\n",
    "org = \"Portfolio_Opt\"\n",
    "url = \"http://localhost:8080\"\n",
    "bucket = \"Nifty50\"\n",
    "\n",

    "client = InfluxDBClient(url=url, token=token, org=org)\n",
    "query_api = client.query_api()\n"
   ]
  },
  {
   "cell_type": "code",
   "execution_count": 22,
   "metadata": {},
   "outputs": [],
   "source": [
    "filtered_stocks = ['ASIANPAINT', 'BAJAJ-AUTO', 'HCLTECH', 'INFY', 'TCS', 'TITAN']\n"
   ]
  },
  {
   "cell_type": "code",
   "execution_count": 30,
   "metadata": {},
   "outputs": [],
   "source": [
    "for symbol in filtered_stocks:\n",
    "    query=f'''\n",
    "    from(bucket: \"Nifty50\")\n",
    "        |> range(start: 0)\n",
    "        |> filter(fn: (r) => r[\"_measurement\"] == \"market_data\")\n",
    "        |> filter(fn: (r)=> r[\"symbol\"] == \"{symbol}\" )\n",
    "        |> filter(fn: (r) => r[\"_field\"] == \"close\")\n",
    "        |> window(every: 1d)\n",
    "        |> last()\n",
    "        |> duplicate(column: \"_start\", as: \"_time\")\n",
    "        |> window(every: inf)\n",
    "        |> yield(name: \"closeData\")\n",
    "    '''\n",
    "    result = query_api.query(org=org, query=query)\n",
    "\n",
    "    data = []\n",
    "    for table in result:\n",
    "        for record in table.records:\n",
    "            data.append((record.get_time(), record.get_value()))\n",
    "\n",
    "    df = pd.DataFrame(data, columns=['Date', symbol])\n",
    "    df.set_index('Date', inplace=True)\n",
    "\n",
    "    # Combine with the main DataFrame\n",
    "    if all_data.empty:\n",
    "        all_data = df\n",
    "    else:\n",
    "        all_data = all_data.join(df, how='outer', rsuffix=f'_{symbol}')\n",
    "\n",

    "pd.DataFrame.to_csv(all_data, 'nifty50.csv')\n"
   ]
  }
 ],
 "metadata": {
  "kernelspec": {
   "display_name": "summer24",
   "language": "python",
   "name": "python3"
  },
  "language_info": {
   "codemirror_mode": {
    "name": "ipython",
    "version": 3
   },
   "file_extension": ".py",
   "mimetype": "text/x-python",
   "name": "python",
   "nbconvert_exporter": "python",
   "pygments_lexer": "ipython3",
   "version": "3.11.9"
  }
 },
 "nbformat": 4,
 "nbformat_minor": 2
}
