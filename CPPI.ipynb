{
 "cells": [
  {
   "cell_type": "code",
   "execution_count": 49,
   "id": "cd2de1ea",
   "metadata": {},
   "outputs": [],
   "source": [
    "stock_symbols = ['ASIANPAINT.NS', 'BAJAJ-AUTO.NS', 'BAJFINANCE.NS', 'HCLTECH.NS',\n",
    "                 'INFY.NS', 'TCS.NS', 'TECHM.NS']\n",
    "weights = [0.1966473, 0.13984502, 0.21313215, 0.06534316, 0.10815051, 0.18365964, 0.09322223]\n",
    "stock_dict = dict(zip(stock_symbols, weights))"
   ]
  },
  {
   "cell_type": "code",
   "execution_count": 50,
   "id": "d17d78f4",
   "metadata": {},
   "outputs": [],
   "source": [
    "import pandas as pd\n",
    "real_prices = pd.read_csv(\"backtesting_data.csv\")"
   ]
  },
  {
   "cell_type": "code",
   "execution_count": 51,
   "id": "b752e47a",
   "metadata": {},
   "outputs": [],
   "source": [
    "real_prices.rename(columns={'_time': 'Date'}, inplace=True)\n",
    "real_prices['Date'] = pd.to_datetime(real_prices['Date']).dt.date\n",
    "real_prices.set_index('Date', inplace=True)"
   ]
  },
  {
   "cell_type": "code",
   "execution_count": 52,
   "id": "38b81289",
   "metadata": {},
   "outputs": [],
   "source": [
    "real_prices = real_prices.apply(pd.to_numeric)\n",
    "real_returns = real_prices.pct_change() * 100\n",
    "real_returns = real_returns.dropna()"
   ]
  },
  {
   "cell_type": "code",
   "execution_count": 53,
   "id": "441bd6c5",
   "metadata": {},
   "outputs": [],
   "source": [
    "if set(real_returns.columns) != set(stock_dict.keys()):\n",
    "    raise ValueError(\"Column names in the DataFrame do not match the keys in the weights dictionary.\")\n",
    "weights_series = pd.Series(stock_dict)\n",
    "real_returns['Combined Return'] = real_returns.dot(weights_series)\n",
    "combined_returns_df = real_returns.reset_index()[['Date', 'Combined Return']]\n",
    "combined_returns_df['Date'] = pd.to_datetime(combined_returns_df['Date']).dt.date\n",
    "combined_returns_df.set_index('Date', inplace=True)"
   ]
  },
  {
   "cell_type": "code",
   "execution_count": 54,
   "id": "eac2c15b",
   "metadata": {},
   "outputs": [],
   "source": [
    "def annualize_rets(r, periods_per_year):\n",
    "    compounded_growth = (1+r).prod()\n",
    "    n_periods = r.shape[0]\n",
    "    return compounded_growth**(periods_per_year/n_periods)-1\n",
    "\n",
    "def annualize_vol(r, periods_per_year):\n",
    "    return r.std()*(periods_per_year**0.5)"
   ]
  },
  {
   "cell_type": "code",
   "execution_count": 57,
   "id": "eeca21eb",
   "metadata": {},
   "outputs": [],
   "source": [
    "combined_returns_df['Cumulative Return'] = (1 + combined_returns_df['Combined Return']).cumprod()"
   ]
  },
  {
   "cell_type": "code",
   "execution_count": 58,
   "id": "87a1dc61",
   "metadata": {},
   "outputs": [
    {
     "data": {
      "text/html": [
       "<div>\n",
       "<style scoped>\n",
       "    .dataframe tbody tr th:only-of-type {\n",
       "        vertical-align: middle;\n",
       "    }\n",
       "\n",
       "    .dataframe tbody tr th {\n",
       "        vertical-align: top;\n",
       "    }\n",
       "\n",
       "    .dataframe thead th {\n",
       "        text-align: right;\n",
       "    }\n",
       "</style>\n",
       "<table border=\"1\" class=\"dataframe\">\n",
       "  <thead>\n",
       "    <tr style=\"text-align: right;\">\n",
       "      <th></th>\n",
       "      <th>Combined Return</th>\n",
       "      <th>Cumulative Return</th>\n",
       "    </tr>\n",
       "    <tr>\n",
       "      <th>Date</th>\n",
       "      <th></th>\n",
       "      <th></th>\n",
       "    </tr>\n",
       "  </thead>\n",
       "  <tbody>\n",
       "    <tr>\n",
       "      <th>2023-01-03</th>\n",
       "      <td>0.571411</td>\n",
       "      <td>1.571411e+00</td>\n",
       "    </tr>\n",
       "    <tr>\n",
       "      <th>2023-01-04</th>\n",
       "      <td>-0.617912</td>\n",
       "      <td>6.004168e-01</td>\n",
       "    </tr>\n",
       "    <tr>\n",
       "      <th>2023-01-05</th>\n",
       "      <td>-1.533414</td>\n",
       "      <td>-3.202709e-01</td>\n",
       "    </tr>\n",
       "    <tr>\n",
       "      <th>2023-01-06</th>\n",
       "      <td>-1.560043</td>\n",
       "      <td>1.793654e-01</td>\n",
       "    </tr>\n",
       "    <tr>\n",
       "      <th>2023-01-09</th>\n",
       "      <td>1.384201</td>\n",
       "      <td>4.276432e-01</td>\n",
       "    </tr>\n",
       "    <tr>\n",
       "      <th>...</th>\n",
       "      <td>...</td>\n",
       "      <td>...</td>\n",
       "    </tr>\n",
       "    <tr>\n",
       "      <th>2023-12-22</th>\n",
       "      <td>1.041980</td>\n",
       "      <td>-2.004116e-10</td>\n",
       "    </tr>\n",
       "    <tr>\n",
       "      <th>2023-12-26</th>\n",
       "      <td>-0.176205</td>\n",
       "      <td>-1.650980e-10</td>\n",
       "    </tr>\n",
       "    <tr>\n",
       "      <th>2023-12-27</th>\n",
       "      <td>1.149367</td>\n",
       "      <td>-3.548563e-10</td>\n",
       "    </tr>\n",
       "    <tr>\n",
       "      <th>2023-12-28</th>\n",
       "      <td>-0.019804</td>\n",
       "      <td>-3.478289e-10</td>\n",
       "    </tr>\n",
       "    <tr>\n",
       "      <th>2023-12-29</th>\n",
       "      <td>0.136005</td>\n",
       "      <td>-3.951355e-10</td>\n",
       "    </tr>\n",
       "  </tbody>\n",
       "</table>\n",
       "<p>244 rows × 2 columns</p>\n",
       "</div>"
      ],
      "text/plain": [
       "            Combined Return  Cumulative Return\n",
       "Date                                          \n",
       "2023-01-03         0.571411       1.571411e+00\n",
       "2023-01-04        -0.617912       6.004168e-01\n",
       "2023-01-05        -1.533414      -3.202709e-01\n",
       "2023-01-06        -1.560043       1.793654e-01\n",
       "2023-01-09         1.384201       4.276432e-01\n",
       "...                     ...                ...\n",
       "2023-12-22         1.041980      -2.004116e-10\n",
       "2023-12-26        -0.176205      -1.650980e-10\n",
       "2023-12-27         1.149367      -3.548563e-10\n",
       "2023-12-28        -0.019804      -3.478289e-10\n",
       "2023-12-29         0.136005      -3.951355e-10\n",
       "\n",
       "[244 rows x 2 columns]"
      ]
     },
     "execution_count": 58,
     "metadata": {},
     "output_type": "execute_result"
    }
   ],
   "source": [
    "combined_returns_df"
   ]
  },
  {
   "cell_type": "code",
   "execution_count": null,
   "id": "1ca24346",
   "metadata": {},
   "outputs": [],
   "source": []
  }
 ],
 "metadata": {
  "kernelspec": {
   "display_name": "Python 3 (ipykernel)",
   "language": "python",
   "name": "python3"
  },
  "language_info": {
   "codemirror_mode": {
    "name": "ipython",
    "version": 3
   },
   "file_extension": ".py",
   "mimetype": "text/x-python",
   "name": "python",
   "nbconvert_exporter": "python",
   "pygments_lexer": "ipython3",
   "version": "3.10.9"
  }
 },
 "nbformat": 4,
 "nbformat_minor": 5
}
