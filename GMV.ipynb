{
 "cells": [
  {
   "cell_type": "code",
   "execution_count": 116,
   "id": "8a140668",
   "metadata": {},
   "outputs": [],
   "source": [
    "import pandas as pd\n",
    "import numpy as np"
   ]
  },
  {
   "cell_type": "code",
   "execution_count": 117,
   "id": "68db3ba3",
   "metadata": {},
   "outputs": [],
   "source": [
    "predicted_prices = pd.read_csv(\"predicted_stock_prices.csv\")\n",
    "predicted_prices.rename(columns={'Unnamed: 0': 'Date'}, inplace=True)\n",
    "predicted_prices['Date'] = pd.to_datetime(predicted_prices['Date'], format='%Y-%m-%d')\n",
    "predicted_prices.set_index('Date', inplace=True)"
   ]
  },
  {
   "cell_type": "code",
   "execution_count": 118,
   "id": "e24ae442",
   "metadata": {},
   "outputs": [],
   "source": [
    "predicted_prices = predicted_prices.apply(pd.to_numeric)\n",
    "daily_returns = predicted_prices.pct_change()\n",
    "daily_returns = daily_returns.dropna()"
   ]
  },
  {
   "cell_type": "code",
   "execution_count": 119,
   "id": "110e756f",
   "metadata": {},
   "outputs": [],
   "source": [
    "def annualize_rets(r, periods_per_year):\n",
    "    compounded_growth = (1+r).prod()\n",
    "    n_periods = r.shape[0]\n",
    "    return compounded_growth**(periods_per_year/n_periods)-1\n",
    "\n",
    "def annualize_vol(r, periods_per_year):\n",
    "    return r.std()*(periods_per_year**0.5)"
   ]
  },
  {
   "cell_type": "code",
   "execution_count": 121,
   "id": "772e4b13",
   "metadata": {},
   "outputs": [],
   "source": [
    "annualised_daily_returns = annualize_rets(daily_returns, 365)\n",
    "volatility_daily_returns = annualize_vol(daily_returns, 365)"
   ]
  },
  {
   "cell_type": "code",
   "execution_count": 122,
   "id": "a5b969a1",
   "metadata": {},
   "outputs": [],
   "source": [
    "import numpy as np         \n",
    "import pandas as pd         \n",
    "import matplotlib.pyplot as plt  \n",
    "from scipy.optimize import minimize  \n",
    "\n",
    "def portfolio_return(weights, returns):\n",
    "    return weights.T @ returns\n",
    "\n",
    "\n",
    "def portfolio_vol(weights, covmat):\n",
    "    return (weights.T @ covmat @ weights)**0.5\n",
    "\n",
    "from scipy.optimize import minimize\n",
    "\n",
    "def minimize_vol(target_return, er, cov):\n",
    "    n = er.shape[0]\n",
    "    init_guess = np.repeat(1/n, n)\n",
    "    bounds = ((0.0, 1.0),) * n\n",
    "    weights_sum_to_1 = {'type': 'eq',\n",
    "                        'fun': lambda weights: np.sum(weights) - 1\n",
    "    }\n",
    "    return_is_target = {'type': 'eq',\n",
    "                        'args': (er,),\n",
    "                        'fun': lambda weights, er: target_return - portfolio_return(weights,er)\n",
    "    }\n",
    "    weights = minimize(portfolio_vol, init_guess,\n",
    "                       args=(cov,), method='SLSQP',\n",
    "                       options={'disp': False},\n",
    "                       constraints=(weights_sum_to_1,return_is_target),\n",
    "                       bounds=bounds)\n",
    "    return weights.x\n",
    "\n",
    "def msr(riskfree_rate, er, cov):\n",
    "    n = er.shape[0]\n",
    "    init_guess = np.repeat(1/n, n)\n",
    "    bounds = ((0.0, 1.0),) * n \n",
    "    weights_sum_to_1 = {'type': 'eq',\n",
    "                        'fun': lambda weights: np.sum(weights) - 1\n",
    "    }\n",
    "    def neg_sharpe(weights, riskfree_rate, er, cov):\n",
    "        r = portfolio_return(weights, er)\n",
    "        vol = portfolio_vol(weights, cov)\n",
    "        return -(r - riskfree_rate)/vol\n",
    "    \n",
    "    weights = minimize(neg_sharpe, init_guess,\n",
    "                       args=(riskfree_rate, er, cov), method='SLSQP',\n",
    "                       options={'disp': False},\n",
    "                       constraints=(weights_sum_to_1,),\n",
    "                       bounds=bounds)\n",
    "    return weights.x\n",
    "\n",
    "def gmv(cov):\n",
    "    n = cov.shape[0]\n",
    "    return msr(0, np.repeat(1, n), cov)\n",
    "\n",
    "def optimal_weights(n_points, er, cov):\n",
    "    target_rs = np.linspace(er.min(), er.max(), n_points)\n",
    "    weights = [minimize_vol(target_return, er, cov) for target_return in target_rs]\n",
    "    return weights\n",
    "\n",
    "def plot_ef(n_points, er, cov, style='.-', legend=False, show_cml=False, riskfree_rate=0, show_ew=False, show_gmv=False):\n",
    "    weights = optimal_weights(n_points, er, cov)\n",
    "    rets = [portfolio_return(w, er) for w in weights]\n",
    "    vols = [portfolio_vol(w, cov) for w in weights]\n",
    "    ef = pd.DataFrame({\n",
    "        \"Returns\": rets, \n",
    "        \"Volatility\": vols\n",
    "    })\n",
    "    ax = ef.plot.line(x=\"Volatility\", y=\"Returns\", style=style, legend=legend)\n",
    "    if show_cml:\n",
    "        ax.set_xlim(left = 0)\n",
    "        w_msr = msr(riskfree_rate, er, cov)\n",
    "        r_msr = portfolio_return(w_msr, er)\n",
    "        vol_msr = portfolio_vol(w_msr, cov)\n",
    "        cml_x = [0, vol_msr]\n",
    "        cml_y = [riskfree_rate, r_msr]\n",
    "        ax.plot(cml_x, cml_y, color='green', marker='o', linestyle='dashed', linewidth=2, markersize=10)\n",
    "    if show_ew:\n",
    "        n = er.shape[0]\n",
    "        w_ew = np.repeat(1/n, n)\n",
    "        r_ew = portfolio_return(w_ew, er)\n",
    "        vol_ew = portfolio_vol(w_ew, cov)\n",
    "        ax.plot([vol_ew], [r_ew], color='goldenrod', marker='o', markersize=10)\n",
    "    if show_gmv:\n",
    "        w_gmv = gmv(cov)\n",
    "        r_gmv = portfolio_return(w_gmv, er)\n",
    "        vol_gmv = portfolio_vol(w_gmv, cov)\n",
    "        ax.plot([vol_gmv], [r_gmv], color='midnightblue', marker='o', markersize=10)\n",
    "        \n",
    "        return ax"
   ]
  },
  {
   "cell_type": "code",
   "execution_count": 123,
   "id": "ee37ed78",
   "metadata": {},
   "outputs": [],
   "source": [
    "cov_matrix = daily_returns.cov()\n",
    "l = ['ASIANPAINT.NS', 'BAJAJ-AUTO.NS', 'BAJFINANCE.NS', 'HCLTECH.NS',\n",
    "       'INFY.NS', 'TCS.NS', 'TECHM.NS']\n",
    "cov_matrix_final = cov_matrix.loc[l,l]"
   ]
  },
  {
   "cell_type": "code",
   "execution_count": 129,
   "id": "717b69ba",
   "metadata": {},
   "outputs": [],
   "source": [
    "gmv_weights = gmv(cov_matrix_final)\n",
    "msr_weights = msr(0.0697, annualised_daily_returns, cov_matrix_final)"
   ]
  },
  {
   "cell_type": "code",
   "execution_count": 131,
   "id": "8252c527",
   "metadata": {},
   "outputs": [
    {
     "name": "stdout",
     "output_type": "stream",
     "text": [
      "[0.1966477  0.13984027 0.21313399 0.06534991 0.108151   0.18365712\n",
      " 0.09322002]\n",
      "[4.24689410e-13 0.00000000e+00 2.84356192e-01 6.29304990e-12\n",
      " 1.47187965e-01 4.75904053e-01 9.25517896e-02]\n"
     ]
    }
   ],
   "source": [
    "print(gmv_weights)\n",
    "print(msr_weights)"
   ]
  },
  {
   "cell_type": "code",
   "execution_count": 136,
   "id": "c934f019",
   "metadata": {},
   "outputs": [
    {
     "data": {
      "text/plain": [
       "<Axes: xlabel='Volatility'>"
      ]
     },
     "execution_count": 136,
     "metadata": {},
     "output_type": "execute_result"
    },
    {
     "data": {
      "image/png": "[encoded data removed]",
      "text/plain": [
       "<Figure size 640x480 with 1 Axes>"
      ]
     },
     "metadata": {},
     "output_type": "display_data"
    }
   ],
   "source": [
    "plot_ef(15, annualised_daily_returns, cov_matrix_final, style='.-', legend=True, show_cml=True, riskfree_rate=0.06971, show_ew=True, show_gmv=True)"
   ]
  },
  {
   "cell_type": "code",
   "execution_count": null,
   "id": "1c0c7fba",
   "metadata": {},
   "outputs": [],
   "source": []
  }
 ],
 "metadata": {
  "kernelspec": {
   "display_name": "Python 3 (ipykernel)",
   "language": "python",
   "name": "python3"
  },
  "language_info": {
   "codemirror_mode": {
    "name": "ipython",
    "version": 3
   },
   "file_extension": ".py",
   "mimetype": "text/x-python",
   "name": "python",
   "nbconvert_exporter": "python",
   "pygments_lexer": "ipython3",
   "version": "3.10.9"
  }
 },
 "nbformat": 4,
 "nbformat_minor": 5
}
