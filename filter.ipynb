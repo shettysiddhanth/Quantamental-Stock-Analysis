{
 "cells": [
  {
   "cell_type": "code",
   "execution_count": 1,
   "metadata": {},
   "outputs": [],
   "source": [
    "from influxdb_client import InfluxDBClient\n",
    "\n",

    "token = 'MlUmh8wWKDAcBiZbBjvJPguGKxoON1ZRqFjVQ_zh8M3NHLcr53WnxbfXX_ByD0Wm7S8G0kb622gj2EX25MzFCA=='\n",
    "org = \"Portfolio_Opt\"\n",
    "url = \"http://localhost:8080\"\n",
    "bucket = \"Nifty50\"\n",
    "\n",

    "client = InfluxDBClient(url=url, token=token, org=org)"
   ]
  },
  {
   "cell_type": "code",
   "execution_count": 2,
   "metadata": {},
   "outputs": [],
   "source": [
    "benchmarks = {\n",
    "    'Basic EPS (Rs.)': 25,\n",
    "    'Return on Networth / Equity (%)': 15,\n",
    "    # 'Total Debt/Equity (X)': 1,\n",
    "    # 'Asset Turnover Ratio (%)': 0.88,\n",
    "    'Current Ratio (X)': 1.5,\n",
    "    # 'Quick Ratio (X)': 1,\n",
    "    # 'Cash EPS (Rs.)': 5,\n",
    "    # 'Dividend Payout Ratio (CP) (%)': 30,\n",
    "    # 'EV/EBITDA (X)': 10,\n",
    "    # 'Net Profit Margin (%)': 10,\n",
    "    'PBIT Margin (%)': 12,\n",
    "    # 'PBT Margin (%)': 10,\n",
    "    # 'Price/BV (X)': 3,\n",
    "    # 'Return on Assets (%)': 5,\n",
    "    'Return on Capital Employed (%)': 10\n",
    "}\n",
    "nifty50_symbols = [\n",
    "    \"ADANIPORTS\", \"ASIANPAINT\", \"AXISBANK\", \"BAJAJ-AUTO\", \"BAJFINANCE\",\n",
    "    \"BAJAJFINSV\", \"BPCL\", \"BHARTIARTL\", \"BRITANNIA\", \"CIPLA\",\n",
    "    \"COALINDIA\", \"DIVISLAB\", \"DRREDDY\", \"EICHERMOT\", \"GRASIM\",\n",
    "    \"HCLTECH\", \"HDFCBANK\", \"HDFCLIFE\", \"HEROMOTOCO\", \"HINDALCO\",\n",
    "    \"HINDUNILVR\", \"HDFC\", \"ICICIBANK\", \"ITC\", \"IOC\",\n",
    "    \"INDUSINDBK\", \"INFY\", \"JSWSTEEL\", \"KOTAKBANK\", \"LT\",\n",
    "    \"M&M\", \"MARUTI\", \"NTPC\", \"NESTLEIND\", \"ONGC\",\n",
    "    \"POWERGRID\", \"RELIANCE\", \"SBILIFE\", \"SHREECEM\", \"SBIN\",\n",
    "    \"SUNPHARMA\", \"TCS\", \"TATACONSUM\", \"TATAMOTORS\", \"TATASTEEL\",\n",
    "    \"TECHM\", \"TITAN\", \"UPL\", \"ULTRACEMCO\", \"WIPRO\"\n",
    "]"
   ]
  },
  {
   "cell_type": "code",
   "execution_count": 3,
   "metadata": {},
   "outputs": [],
   "source": [
    "def fetch_and_evaluate():\n",
    "    qualifying_companies = {}\n",
    "    query_api = client.query_api()\n",
    "\n",
    "    for symbol in nifty50_symbols:\n",
    "        all_meet_benchmark = True\n",
    "        for ratio, benchmark in benchmarks.items():\n",
    "            query = f'''\n",
    "                from(bucket: \"Nifty50\")\n",
    "                |> range(start: -2y)\n",
    "                |> filter(fn: (r) => r[\"_measurement\"] == \"stock_metrics\")\n",
    "                |> filter(fn: (r) => r[\"_field\"] == \"{ratio}\")\n",
    "                |> filter(fn: (r) => r[\"symbol\"] == \"{symbol}\")\n",
    "            '''\n",
    "            result = query_api.query(org=org, query=query)\n",
    "            meets_benchmark = False\n",
    "            for table in result:\n",
    "                for record in table.records:\n",
    "                    if record.get_value() >= benchmark:\n",
    "                        meets_benchmark = True\n",
    "                        break\n",
    "                if meets_benchmark:\n",
    "                    break\n",
    "            if not meets_benchmark:\n",
    "                all_meet_benchmark = False\n",
    "                break\n",
    "        if all_meet_benchmark:\n",
    "            qualifying_companies[symbol] = True\n",
    "\n",
    "    return [company for company, valid in qualifying_companies.items() if valid]"
   ]
  },
  {
   "cell_type": "code",
   "execution_count": 4,
   "metadata": {},
   "outputs": [
    {
     "name": "stdout",
     "output_type": "stream",
     "text": [
      "Companies that meet or exceed all benchmarks: ['ASIANPAINT', 'BAJAJ-AUTO', 'HCLTECH', 'INFY', 'TCS', 'TITAN']\n"
     ]
    }
   ],
   "source": [
    "qualifying_companies = fetch_and_evaluate()\n",
    "print(\"Companies that meet or exceed all benchmarks:\", qualifying_companies)\n",
    "\n",
    "# Close the client\n",
    "client.close()"
   ]
  }
 ],
 "metadata": {
  "kernelspec": {
   "display_name": "summer24",
   "language": "python",
   "name": "python3"
  },
  "language_info": {
   "codemirror_mode": {
    "name": "ipython",
    "version": 3
   },
   "file_extension": ".py",
   "mimetype": "text/x-python",
   "name": "python",
   "nbconvert_exporter": "python",
   "pygments_lexer": "ipython3",
   "version": "3.11.9"
  }
 },
 "nbformat": 4,
 "nbformat_minor": 2
}
